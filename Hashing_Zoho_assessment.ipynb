{
 "cells": [
  {
   "cell_type": "code",
   "execution_count": 2,
   "metadata": {},
   "outputs": [
    {
     "name": "stdout",
     "output_type": "stream",
     "text": [
      "[0, 1]\n"
     ]
    }
   ],
   "source": [
    "def two_sum(nums, target):\n",
    "    num_to_index = {}\n",
    "    for index, num in enumerate(nums):\n",
    "        complement = target - num\n",
    "        if complement in num_to_index:\n",
    "            return [num_to_index[complement], index]\n",
    "        num_to_index[num] = index\n",
    "    return []\n",
    "\n",
    "# Example usage\n",
    "nums = input().strip().split(',')\n",
    "nums = [int(num) for num in nums if num.strip().isdigit()]\n",
    "target = int(input().strip())\n",
    "result = two_sum(nums, target)\n",
    "print(result)  # Output: [0, 1]\n"
   ]
  },
  {
   "cell_type": "code",
   "execution_count": 3,
   "metadata": {},
   "outputs": [
    {
     "name": "stdout",
     "output_type": "stream",
     "text": [
      "[0, 1]\n"
     ]
    }
   ],
   "source": [
    "# Example usage\n",
    "nums = [2, 7, 11, 15]\n",
    "target = 9\n",
    "result = two_sum(nums, target)\n",
    "print(result)  "
   ]
  },
  {
   "cell_type": "code",
   "execution_count": 4,
   "metadata": {},
   "outputs": [
    {
     "name": "stdout",
     "output_type": "stream",
     "text": [
      "[[\"eat\", \"tea\", \"ate\"], [\"tan\", \"nat\"], [\"bat\"]]\n"
     ]
    }
   ],
   "source": [
    "from collections import defaultdict\n",
    "\n",
    "def group_anagrams(strs):\n",
    "    anagrams = defaultdict(list)\n",
    "    for s in strs:\n",
    "        sorted_str = ''.join(sorted(s.strip()))\n",
    "        anagrams[sorted_str].append(s.strip())\n",
    "    return list(anagrams.values())\n",
    "\n",
    "# Input\n",
    "strs = list(input().split(\",\"))\n",
    "result = group_anagrams(strs)\n",
    "\n",
    "# Print the result in the desired format\n",
    "output = \"[\" + \", \".join([\"[\" + \", \".join(group) + \"]\" for group in result]) + \"]\"\n",
    "print(output)\n",
    "\n"
   ]
  },
  {
   "cell_type": "code",
   "execution_count": 6,
   "metadata": {},
   "outputs": [
    {
     "name": "stdout",
     "output_type": "stream",
     "text": [
      "[['eat', 'tea', 'ate'], ['tan', 'nat'], ['bat']]\n"
     ]
    }
   ],
   "source": [
    "# Example usage\n",
    "strs = [\"eat\", \"tea\", \"tan\", \"ate\", \"nat\", \"bat\"]\n",
    "result = group_anagrams(strs)\n",
    "print(result) "
   ]
  },
  {
   "cell_type": "code",
   "execution_count": 4,
   "metadata": {},
   "outputs": [
    {
     "name": "stdout",
     "output_type": "stream",
     "text": [
      "3\n"
     ]
    }
   ],
   "source": [
    "def length_of_longest_substring(s):\n",
    "    char_index_map = {}\n",
    "    left = 0\n",
    "    max_length = 0\n",
    "\n",
    "    for right, char in enumerate(s):\n",
    "        if char in char_index_map and char_index_map[char] >= left:\n",
    "            left = char_index_map[char] + 1\n",
    "        char_index_map[char] = right\n",
    "        max_length = max(max_length, right - left + 1)\n",
    "\n",
    "    return max_length\n",
    "\n",
    "# Input\n",
    "s = input()\n",
    "result = length_of_longest_substring(s)\n",
    "print(result)  \n"
   ]
  },
  {
   "cell_type": "code",
   "execution_count": null,
   "metadata": {},
   "outputs": [],
   "source": [
    "# Example usage\n",
    "s = \"abcabcbb\"\n",
    "result = length_of_longest_substring(s)\n",
    "print(result)  # Output: 3"
   ]
  },
  {
   "cell_type": "code",
   "execution_count": 5,
   "metadata": {},
   "outputs": [
    {
     "name": "stdout",
     "output_type": "stream",
     "text": [
      "[1, 2]\n"
     ]
    }
   ],
   "source": [
    "from collections import Counter\n",
    "import heapq\n",
    "\n",
    "def top_k_frequent(nums, k):\n",
    "    # Step 1: Count the frequency of each element\n",
    "    count = Counter(nums)\n",
    "    \n",
    "    # Step 2: Use a heap to find the k most frequent elements\n",
    "    # `nlargest` returns the k keys with the largest values from the counter\n",
    "    return heapq.nlargest(k, count.keys(), key=count.get)\n",
    "\n",
    "# Input\n",
    "nums = list(map(int, input().split(',')))\n",
    "k = int(input())\n",
    "result = top_k_frequent(nums, k)\n",
    "print(result)  # Output: [1, 2]\n"
   ]
  },
  {
   "cell_type": "code",
   "execution_count": null,
   "metadata": {},
   "outputs": [],
   "source": [
    "# Example usage\n",
    "nums = [1,1,1,2,2,3]\n",
    "k = 2\n",
    "result = top_k_frequent(nums, k)\n",
    "print(result)  # Output: [1, 2]"
   ]
  },
  {
   "cell_type": "code",
   "execution_count": null,
   "metadata": {},
   "outputs": [],
   "source": []
  },
  {
   "cell_type": "code",
   "execution_count": 6,
   "metadata": {},
   "outputs": [
    {
     "name": "stdout",
     "output_type": "stream",
     "text": [
      "True\n"
     ]
    }
   ],
   "source": [
    "from collections import Counter\n",
    "\n",
    "def is_anagram(s, t):\n",
    "    # Count the frequency of each character in both strings\n",
    "    return Counter(s) == Counter(t)\n",
    "\n",
    "# Input\n",
    "s = input()\n",
    "t = input()\n",
    "print(is_anagram(s, t))  "
   ]
  },
  {
   "cell_type": "code",
   "execution_count": null,
   "metadata": {},
   "outputs": [],
   "source": [
    "# Example usage\n",
    "s1 = \"anagram\"\n",
    "t1 = \"nagaram\"\n",
    "print(is_anagram(s1, t1))  # Output: true\n",
    "\n",
    "s2 = \"rat\"\n",
    "t2 = \"car\"\n",
    "print(is_anagram(s2, t2))  # Output: false\n"
   ]
  }
 ],
 "metadata": {
  "kernelspec": {
   "display_name": "Python 3",
   "language": "python",
   "name": "python3"
  },
  "language_info": {
   "codemirror_mode": {
    "name": "ipython",
    "version": 3
   },
   "file_extension": ".py",
   "mimetype": "text/x-python",
   "name": "python",
   "nbconvert_exporter": "python",
   "pygments_lexer": "ipython3",
   "version": "3.12.3"
  }
 },
 "nbformat": 4,
 "nbformat_minor": 2
}
