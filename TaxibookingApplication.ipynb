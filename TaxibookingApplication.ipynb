{
 "cells": [
  {
   "cell_type": "markdown",
   "metadata": {},
   "source": [
    "1. Call Taxi Booking Application \n",
    "Objective: Design a call taxi booking application. \n",
    "Requirements:\n",
    "- There are n taxis, assume 4 for simplicity. - Six points (A, B, C, D, E, F) in a straight line, 15 kms apart. - All taxis start at point A.\n",
    "- It takes 60 minutes to travel from one point to the next.\n",
    "- When a customer books a taxi, allocate a free taxi at that point. If none are available, allocate a taxi from the nearest point.\n",
    "- If two taxis are free at the same point, allocate the one with lower earnings. \n",
    "- Taxis charge Rs.100 for the first 5 kms and Rs.10 for each subsequent km. \n",
    "- Taxis only charge from the pickup point to the drop point. \n",
    "- If no taxi is free at the time, the booking is rejected."
   ]
  },
  {
   "cell_type": "code",
   "execution_count": 1,
   "metadata": {},
   "outputs": [
    {
     "name": "stdout",
     "output_type": "stream",
     "text": [
      "Taxi 1 booked from A to C. Fare: Rs.350\n",
      "Taxi 2 booked from A to B. Fare: Rs.200\n",
      "Taxi 2 booked from B to D. Fare: Rs.350\n",
      "Taxi 2 booked from D to F. Fare: Rs.350\n",
      "Taxi 1 at C with earnings 350\n",
      "Taxi 2 at F with earnings 900\n",
      "Taxi 3 at A with earnings 0\n",
      "Taxi 4 at A with earnings 0\n"
     ]
    }
   ],
   "source": [
    "class Taxi:\n",
    "    def __init__(self, id):\n",
    "        self.id = id\n",
    "        self.current_position = 'A'\n",
    "        self.earnings = 0\n",
    "\n",
    "    def update_position(self, new_position):\n",
    "        self.current_position = new_position\n",
    "\n",
    "    def calculate_fare(self, distance):\n",
    "        if distance <= 5:\n",
    "            return 100\n",
    "        else:\n",
    "            return 100 + (distance - 5) * 10\n",
    "\n",
    "    def __repr__(self):\n",
    "        return f\"Taxi {self.id} at {self.current_position} with earnings {self.earnings}\"\n",
    "\n",
    "\n",
    "class BookingSystem:\n",
    "    def __init__(self):\n",
    "        self.taxis = [Taxi(i) for i in range(1, 5)]\n",
    "        self.positions = ['A', 'B', 'C', 'D', 'E', 'F']\n",
    "        self.position_indices = {pos: idx for idx, pos in enumerate(self.positions)}\n",
    "\n",
    "    def book_taxi(self, pickup_point, drop_point):\n",
    "        if pickup_point not in self.positions or drop_point not in self.positions:\n",
    "            return \"Invalid booking points.\"\n",
    "\n",
    "        available_taxis = [taxi for taxi in self.taxis if taxi.current_position == pickup_point]\n",
    "\n",
    "        if not available_taxis:\n",
    "            # Find the nearest taxi\n",
    "            available_taxis = sorted(self.taxis, key=lambda taxi: (abs(self.position_indices[taxi.current_position] - self.position_indices[pickup_point]), taxi.earnings))\n",
    "            nearest_taxi = available_taxis[0]\n",
    "            if abs(self.position_indices[nearest_taxi.current_position] - self.position_indices[pickup_point]) * 60 > 0:\n",
    "                # Travel time to pickup point\n",
    "                nearest_taxi.update_position(pickup_point)\n",
    "        else:\n",
    "            # If multiple taxis at the same point, choose the one with the lower earnings\n",
    "            available_taxis.sort(key=lambda taxi: taxi.earnings)\n",
    "            nearest_taxi = available_taxis[0]\n",
    "\n",
    "        if nearest_taxi:\n",
    "            distance = abs(self.position_indices[drop_point] - self.position_indices[pickup_point]) * 15\n",
    "            fare = nearest_taxi.calculate_fare(distance)\n",
    "            nearest_taxi.earnings += fare\n",
    "            nearest_taxi.update_position(drop_point)\n",
    "            return f\"Taxi {nearest_taxi.id} booked from {pickup_point} to {drop_point}. Fare: Rs.{fare}\"\n",
    "        else:\n",
    "            return \"No taxi available at the moment.\"\n",
    "\n",
    "    def __repr__(self):\n",
    "        return \"\\n\".join(str(taxi) for taxi in self.taxis)\n",
    "\n",
    "\n",
    "# Input\n",
    "booking_system = BookingSystem()\n",
    "\n",
    "print(booking_system.book_taxi('A', 'C'))  # Should book a taxi from A to C\n",
    "print(booking_system.book_taxi('A', 'B'))  # Should book another taxi from A to B\n",
    "print(booking_system.book_taxi('B', 'D'))  # Should book the taxi from B to D or nearest available taxi\n",
    "print(booking_system.book_taxi('D', 'F'))  # Should book a taxi from D to F\n",
    "\n",
    "print(booking_system)  # Show current status of taxis\n"
   ]
  }
 ],
 "metadata": {
  "kernelspec": {
   "display_name": "Python 3",
   "language": "python",
   "name": "python3"
  },
  "language_info": {
   "codemirror_mode": {
    "name": "ipython",
    "version": 3
   },
   "file_extension": ".py",
   "mimetype": "text/x-python",
   "name": "python",
   "nbconvert_exporter": "python",
   "pygments_lexer": "ipython3",
   "version": "3.12.3"
  }
 },
 "nbformat": 4,
 "nbformat_minor": 2
}
