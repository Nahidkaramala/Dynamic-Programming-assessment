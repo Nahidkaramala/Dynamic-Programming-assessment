{
 "cells": [
  {
   "cell_type": "markdown",
   "metadata": {},
   "source": [
    "Question 1 \n",
    "Problem Description:\n",
    "You are given an integer array coins representing coins of different denominations and an integer amount representing a total amount of money.\n",
    "Return the fewest number of coins that you need to make up that amount. If that amount of money cannot be made up by any combination of the coins, return -1.\n",
    "You may assume that you have an infinite number of each kind of coin. Input Description:\n",
    "An integer array `coins` representing coins of different denominations. An integer `amount` representing a total amount of money.\n",
    "Output Description:\n",
    "The fewest number of coins needed to make up the amount. If the amount cannot be made up, return -1.\n",
    "Examples: **Example 1:**\n",
    "- Input: `coins = [1, 2, 5]`, `amount = 11` - Output: `3`\n",
    "- Explanation: `11 = 5 + 5 + 1` **Example 2:**- Input: `coins = [2]`, `amount = 3` - Output: `-1`\n",
    "**Example 3:**\n",
    "- Input: `coins = [1]`, `amount = 0` - Output: `0` Constraints:\n",
    "1 <= coins.length <= 12 1 <= coins[i] <= 2^31 - 1 0 <= amount <= 10^4"
   ]
  },
  {
   "cell_type": "code",
   "execution_count": 4,
   "metadata": {},
   "outputs": [
    {
     "name": "stdout",
     "output_type": "stream",
     "text": [
      "3\n"
     ]
    }
   ],
   "source": [
    "def coinChange(coins, amount):\n",
    "    # Initialize dp array with a large number (amount + 1)\n",
    "    dp = [amount + 1] * (amount + 1)\n",
    "    dp[0] = 0\n",
    "    \n",
    "    # Iterate through amounts from 1 to amount\n",
    "    for i in range(1, amount + 1):\n",
    "        for coin in coins:\n",
    "            if coin <= i:\n",
    "                dp[i] = min(dp[i], dp[i - coin] + 1)\n",
    "    \n",
    "    # If dp[amount] is still amount + 1, return -1\n",
    "    return dp[amount] if dp[amount] <= amount else -1\n",
    "\n",
    "\n",
    "#Input\n",
    "coins = list(map(int,input().split(',')))\n",
    "amount = int(input())\n",
    "print(coinChange(coins, amount))  "
   ]
  },
  {
   "cell_type": "code",
   "execution_count": 5,
   "metadata": {},
   "outputs": [
    {
     "name": "stdout",
     "output_type": "stream",
     "text": [
      "3\n"
     ]
    }
   ],
   "source": [
    "# Example usage\n",
    "coins = [1,2,5]\n",
    "amount = 11\n",
    "print(coinChange(coins, amount))  "
   ]
  },
  {
   "cell_type": "markdown",
   "metadata": {},
   "source": [
    "Question 2\n",
    " Problem Description:\n",
    "Given a string `s`, return the longest palindromic substring in `s`.\n",
    "Input Description: A string `s`.\n",
    "Output Description: The longest palindromic substring in `s`.\n",
    "Examples: \n",
    "**Example 1:** - Input: `s = \"babad\"` - Output: `\"bab\"`\n",
    "- Explanation: `\"aba\"` is also a valid answer.\n",
    "**Example 2:** - Input: `s = \"cbbd\"` - Output: `\"bb\"` Constraints:\n",
    "1 <= s.length <= 1000 s consists of only digits and English letters."
   ]
  },
  {
   "cell_type": "code",
   "execution_count": 6,
   "metadata": {},
   "outputs": [
    {
     "name": "stdout",
     "output_type": "stream",
     "text": [
      "pp\n"
     ]
    }
   ],
   "source": [
    "def longestPalindrome(s):\n",
    "    if not s or len(s) == 0:\n",
    "        return \"\"\n",
    "    \n",
    "    start, end = 0, 0\n",
    "    \n",
    "    for i in range(len(s)):\n",
    "        len1 = expandAroundCenter(s, i, i)\n",
    "        len2 = expandAroundCenter(s, i, i + 1)\n",
    "        max_len = max(len1, len2)\n",
    "        \n",
    "        if max_len > end - start:\n",
    "            start = i - (max_len - 1) // 2\n",
    "            end = i + max_len // 2\n",
    "    \n",
    "    return s[start:end + 1]\n",
    "\n",
    "def expandAroundCenter(s, left, right):\n",
    "    while left >= 0 and right < len(s) and s[left] == s[right]:\n",
    "        left -= 1\n",
    "        right += 1\n",
    "    return right - left - 1\n",
    "\n",
    "# Input\n",
    "s = input()\n",
    "print(longestPalindrome(s))  \n",
    "\n",
    "\n"
   ]
  },
  {
   "cell_type": "code",
   "execution_count": 7,
   "metadata": {},
   "outputs": [
    {
     "name": "stdout",
     "output_type": "stream",
     "text": [
      "aba\n",
      "bb\n"
     ]
    }
   ],
   "source": [
    "# Example usage\n",
    "s1 = \"babad\"\n",
    "print(longestPalindrome(s1))  \n",
    "\n",
    "s2 = \"cbbd\"\n",
    "print(longestPalindrome(s2))  \n"
   ]
  },
  {
   "cell_type": "markdown",
   "metadata": {},
   "source": [
    "Question 3 \n",
    "Problem Description:\n",
    "For a string sequence, a string word is k-repeating if word concatenated k times is a substring of sequence. The word's maximum k-repeating value is the highest value k where word is k-repeating in sequence. If word is not a substring of sequence, word's maximum k-repeating value is 0.\n",
    "Given strings sequence and word, return the maximum k-repeating value of word in sequence. Input Description:\n",
    "Two strings `sequence` and `word`. Output Description:\n",
    "The maximum k-repeating value of `word` in `sequence`.\n",
    "Examples:\n",
    " **Example 1:**\n",
    "- Input: `sequence = \"ababc\"`, `word = \"ab\"` - Output: `2`\n",
    "- Explanation: `\"abab\"` is a substring in `\"ababc\"`.**Example 2:**\n",
    "- Input: `sequence = \"ababc\"`, `word = \"ba\"` - Output: `1`\n",
    "- Explanation: `\"ba\"` is a substring in `\"ababc\"`. `\"baba\"` is not a substring in `\"ababc\"`. **Example 3:**\n",
    "- Input: `sequence = \"ababc\"`, `word = \"ac\"` - Output: `0`\n",
    "- Explanation: `\"ac\"` is not a substring in `\"ababc\"`. Constraints:\n",
    "1 <= sequence.length <= 100 1 <= word.length <= 100\n",
    "sequence and word contain only lowercase English letters."
   ]
  },
  {
   "cell_type": "code",
   "execution_count": 8,
   "metadata": {},
   "outputs": [
    {
     "name": "stdout",
     "output_type": "stream",
     "text": [
      "0\n"
     ]
    }
   ],
   "source": [
    "def maxRepeating(sequence, word):\n",
    "    k = 0\n",
    "    repeated_word = word\n",
    "    while repeated_word in sequence:\n",
    "        k += 1\n",
    "        repeated_word = word * (k + 1)\n",
    "    return k\n",
    "\n",
    "\n",
    "# Input\n",
    "sequence = input()\n",
    "word = input()\n",
    "print(maxRepeating(sequence, word))  "
   ]
  },
  {
   "cell_type": "code",
   "execution_count": 9,
   "metadata": {},
   "outputs": [
    {
     "name": "stdout",
     "output_type": "stream",
     "text": [
      "2\n",
      "1\n",
      "0\n"
     ]
    }
   ],
   "source": [
    "# Example usage\n",
    "sequence1 = \"ababc\"\n",
    "word1 = \"ab\"\n",
    "print(maxRepeating(sequence1, word1))  \n",
    "\n",
    "sequence2 = \"ababc\"\n",
    "word2 = \"ba\"\n",
    "print(maxRepeating(sequence2, word2))  \n",
    "\n",
    "sequence3 = \"ababc\"\n",
    "word3 = \"ac\"\n",
    "print(maxRepeating(sequence3, word3))  "
   ]
  },
  {
   "cell_type": "markdown",
   "metadata": {},
   "source": [
    "Question 4\n",
    "Problem Description:\n",
    "Given an integer array nums, find the subarray with the largest sum, and return its sum.\n",
    "Input Description: An integer array nums. Output Description:\n",
    "The sum of the subarray with the largest sum.\n",
    "Examples: **Example 1:**\n",
    "- Input: nums = [-2, 1, -3, 4, -1, 2, 1, -5, 4]- Output: 6 - Explanation: The subarray [4, -1, 2, 1] has the largest sum 6.\n",
    "**Example 2:** - Input: nums = [1] - Output: 1\n",
    "- Explanation: The subarray [1] has the largest sum 1. **Example 3:**\n",
    "- Input: nums = [5, 4, -1, 7, 8] - Output: 23\n",
    "- Explanation: The subarray [5, 4, -1, 7, 8] has the largest sum 23. Constraints:\n",
    "1 <= nums.length <= 10^5 -10^4 <= nums[i] <= 10^4"
   ]
  },
  {
   "cell_type": "code",
   "execution_count": 12,
   "metadata": {},
   "outputs": [
    {
     "name": "stdout",
     "output_type": "stream",
     "text": [
      "21\n"
     ]
    }
   ],
   "source": [
    "def maxSubArray(nums):\n",
    "    max_current = max_global = nums[0]\n",
    "    \n",
    "    for num in nums[1:]:\n",
    "        max_current = max(num, max_current + num)\n",
    "        if max_current > max_global:\n",
    "            max_global = max_current\n",
    "    \n",
    "    return max_global\n",
    "\n",
    "# input\n",
    "nums = list(map(int,input().split(',')))\n",
    "print(maxSubArray(nums)) "
   ]
  },
  {
   "cell_type": "code",
   "execution_count": 13,
   "metadata": {},
   "outputs": [
    {
     "name": "stdout",
     "output_type": "stream",
     "text": [
      "6\n",
      "1\n",
      "23\n"
     ]
    }
   ],
   "source": [
    "# Example usage\n",
    "nums1 = [-2, 1, -3, 4, -1, 2, 1, -5, 4]\n",
    "print(maxSubArray(nums1))\n",
    "\n",
    "nums2 = [1]\n",
    "print(maxSubArray(nums2))  \n",
    "\n",
    "nums3 = [5, 4, -1, 7, 8]\n",
    "print(maxSubArray(nums3))  \n"
   ]
  },
  {
   "cell_type": "markdown",
   "metadata": {},
   "source": [
    "Question 5\n",
    "Problem Description:\n",
    " You are climbing a staircase. It takes n steps to reach the top. Each time you can either climb 1 or 2 steps. In how many distinct ways can you climb to the top?\n",
    "Input Description: An integer n. Output Description:The number of distinct ways to climb to the top.\n",
    "Examples: **Example 1:** - Input: n = 2 - Output: 2\n",
    "- Explanation: There are two ways to climb to the top. 1. 1 step + 1 step 2. 2 steps\n",
    "**Example 2:** - Input: n = 3 - Output: 3\n",
    "- Explanation: There are three ways to climb to the top. 1. 1 step + 1 step + 1 step 2. 1 step + 2 steps 3. 2 steps + 1 step Constraints: 1 <= n <= 45"
   ]
  },
  {
   "cell_type": "code",
   "execution_count": 14,
   "metadata": {},
   "outputs": [
    {
     "name": "stdout",
     "output_type": "stream",
     "text": [
      "2\n"
     ]
    }
   ],
   "source": [
    "def climbStairs(n):\n",
    "    if n == 1:\n",
    "        return 1\n",
    "    \n",
    "    dp = [0] * (n + 1)\n",
    "    dp[0] = 1\n",
    "    dp[1] = 1\n",
    "    \n",
    "    for i in range(2, n + 1):\n",
    "        dp[i] = dp[i - 1] + dp[i - 2]\n",
    "    \n",
    "    return dp[n]\n",
    "\n",
    "# Input\n",
    "n=int(input())\n",
    "print(climbStairs(n))\n"
   ]
  },
  {
   "cell_type": "code",
   "execution_count": 15,
   "metadata": {},
   "outputs": [
    {
     "name": "stdout",
     "output_type": "stream",
     "text": [
      "2\n",
      "3\n",
      "5\n"
     ]
    }
   ],
   "source": [
    "# Example usage\n",
    "print(climbStairs(2))  \n",
    "print(climbStairs(3))  \n",
    "print(climbStairs(4))  "
   ]
  }
 ],
 "metadata": {
  "kernelspec": {
   "display_name": "Python 3",
   "language": "python",
   "name": "python3"
  },
  "language_info": {
   "codemirror_mode": {
    "name": "ipython",
    "version": 3
   },
   "file_extension": ".py",
   "mimetype": "text/x-python",
   "name": "python",
   "nbconvert_exporter": "python",
   "pygments_lexer": "ipython3",
   "version": "3.12.3"
  }
 },
 "nbformat": 4,
 "nbformat_minor": 2
}
